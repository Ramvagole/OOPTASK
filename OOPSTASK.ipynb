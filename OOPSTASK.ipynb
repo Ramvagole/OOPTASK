{
 "cells": [
  {
   "cell_type": "code",
   "execution_count": null,
   "id": "b0430a27-3d10-419e-aa36-8cdf1eae6c9b",
   "metadata": {},
   "outputs": [],
   "source": [
    "#Q1):-\n",
    "class vehicle:\n",
    "    def __init__(self,name,speed,average_of_vehicle):\n",
    "        self.name_of_vehical=name\n",
    "        self.max_speed=speed\n",
    "        self.average_of_vechile=average_of_vehicle"
   ]
  },
  {
   "cell_type": "code",
   "execution_count": null,
   "id": "72d18bd1-3617-4358-9dfc-d88a48959395",
   "metadata": {},
   "outputs": [],
   "source": [
    "#Q2):-\n",
    "class vehicle:\n",
    "    def __init__(self,name,speed,average_of_vehicle):\n",
    "        self.name_of_vehical=name\n",
    "        self.max_speed=speed\n",
    "        self.average_of_vehicle=average_of_vehicle\n",
    "class car(vehicle):\n",
    "    def seating_capacity(self,capacity):\n",
    "        self.seating_capacity = capacity\n",
    "        print(\"Name of vehicle:\",self.name_of_vehical)\n",
    "        print(\"Number of seats:\", self.seating_capacity)\n",
    "c=car(\"Maruthi\",\"120Km\", 12)\n",
    "c.seating_capacity(6)"
   ]
  },
  {
   "cell_type": "code",
   "execution_count": null,
   "id": "45486dcb-e4f9-4d44-b037-0091237ccd6f",
   "metadata": {},
   "outputs": [],
   "source": [
    "#Q3):-\n",
    "Inheritance is the mechanism to achieve the re-usability of code as one class(child class) can derive the properties of another class(parent class). \n",
    "It also provides transitivity ie. if class C inherits from P then all the sub-classes of C would also inherit from P.\n",
    "Example:-\n",
    "class Base1:\n",
    "    Body of the class\n",
    "class Base2:\n",
    "    Body of the class\n",
    "class Derived(Base1,Base2):\n",
    "    Body of the class"
   ]
  },
  {
   "cell_type": "code",
   "execution_count": null,
   "id": "b109f465-7c2a-4c42-8645-60d0a8547601",
   "metadata": {},
   "outputs": [],
   "source": [
    "#Q4):-\n",
    "Basically, the main purpose of using getters and setters in object-oriented programs is to ensure data encapsulation.\n",
    "Private variables in python are not actually hidden fields like in other object oriented languages. \n",
    "Example:-\n",
    "class student:\n",
    "    def __init__(self,age):\n",
    "        self.age=age\n",
    "    def set_age(self,age):\n",
    "        self.age=age\n",
    "    def get_age(self):\n",
    "        return self.age\n",
    "s=student(20)\n",
    "a=input(\"Enter the age:\").strip()\n",
    "s.set_age(a)\n",
    "print(s.get_age())"
   ]
  },
  {
   "cell_type": "code",
   "execution_count": null,
   "id": "fb816e16-3e44-4e39-a4ee-66f4429c5951",
   "metadata": {},
   "outputs": [],
   "source": [
    "#Q5):-\n",
    "When a method in a subclass has the same name, same parameters or signature and same return type(or sub-type) \n",
    "as a method in its super-class, then the method in the subclass is said to override the method in the super-class.\n",
    "Example:-\n",
    "class Parent():\n",
    "    def __init__(self):\n",
    "        self.value = \"Inside Parent\"\n",
    "    def show(self):\n",
    "        print(self.value)\n",
    "        \n",
    "class Child(Parent):\n",
    "    def __init__(self):\n",
    "        self.value = \"Inside Child\"\n",
    "    def show(self):\n",
    "        print(self.value)\n",
    "        \n",
    "obj1 = Parent()\n",
    "obj2 = Child() \n",
    "obj1.show()\n",
    "obj2.show()"
   ]
  }
 ],
 "metadata": {
  "kernelspec": {
   "display_name": "Python 3 (ipykernel)",
   "language": "python",
   "name": "python3"
  },
  "language_info": {
   "codemirror_mode": {
    "name": "ipython",
    "version": 3
   },
   "file_extension": ".py",
   "mimetype": "text/x-python",
   "name": "python",
   "nbconvert_exporter": "python",
   "pygments_lexer": "ipython3",
   "version": "3.10.8"
  }
 },
 "nbformat": 4,
 "nbformat_minor": 5
}
